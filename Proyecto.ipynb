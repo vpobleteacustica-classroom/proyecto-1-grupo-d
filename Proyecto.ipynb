{
 "cells": [
  {
   "cell_type": "markdown",
   "id": "571b565e",
   "metadata": {},
   "source": [
    "<p align=\"center\">\n",
    "    <img src=\"figuras/escudo_uach.png\" alt=\"UACh\" width=\"70\"/>\n",
    "    </p>\n",
    "\n",
    "# Proyecto de ACUS 220 Acústica Computacional con Python  \n",
    "\n",
    "### Primer Hito de Entrega  \n",
    "\n",
    "**Integrantes:** José Manuel Godoy\n"
   ]
  },
  {
   "cell_type": "markdown",
   "id": "833e861f",
   "metadata": {},
   "source": [
    "## Objetivos del Proyecto  \n",
    "\n",
    "**Objetivo General:**  \n",
    "- El objetivo es entrenar un modelo que pueda identificar entre escenas de vehículos, interiores y exteriores.\n",
    "\n",
    "**Objetivos Específicos:**  \n",
    "- OE1:  \n",
    "- OE2: "
   ]
  },
  {
   "cell_type": "markdown",
   "id": "7bfa5889",
   "metadata": {},
   "source": [
    "## Estado del Arte  \n",
    "\n",
    "- \n"
   ]
  },
  {
   "cell_type": "markdown",
   "id": "676f9f9a",
   "metadata": {},
   "source": [
    "## Materiales y Métodos  \n",
    "\n",
    "### Materiales  \n",
    "- TUT sound events 2016 Task 1, consiste en segmentos de audio correspondientes a 15 clases de escenas acústicas, las cuales son:\n",
    "    - Bus - traveling by bus in the city (vehicle)\n",
    "    - Cafe / Restaurant - small cafe/restaurant (indoor)\n",
    "    - Car - driving or traveling as a passenger, in the city (vehicle)\n",
    "    - City center (outdoor)\n",
    "    - Forest path (outdoor)\n",
    "    - Grocery store - medium size grocery store (indoor)\n",
    "    - Home (indoor)\n",
    "    - Lakeside beach (outdoor)\n",
    "    - Library (indoor)\n",
    "    - Metro station (indoor)\n",
    "    - Office - multiple persons, typical work day (indoor)\n",
    "    - Residential area (outdoor)\n",
    "    - Train (traveling, vehicle)\n",
    "    - Tram (traveling, vehicle)\n",
    "    - Urban park (outdoor) \n",
    "\n",
    "### Metodología  \n",
    "Describir paso a paso cómo se abordará el problema.  \n",
    "\n",
    "**Ejemplo plan de trabajo:**  \n",
    "\n",
    "| Actividad                        | Fecha estimada |\n",
    "|----------------------------------|----------------|\n",
    "| Revisión bibliográfica           | 10/10/2025     |\n",
    "| Recolección de datos en terreno  | 20/10/2025     |\n",
    "| Procesamiento de datos en Python | 30/10/2025     |\n",
    "| Entrenamiento del modelo         | 15/11/2025     |\n",
    "| Redacción de informe parcial     | 25/11/2025     |  \n"
   ]
  },
  {
   "cell_type": "markdown",
   "id": "6ee86f3c",
   "metadata": {},
   "source": [
    "## Referencias Bibliográficas  \n",
    "\n",
    "- Mesaros, A., Heittola, T., & Virtanen, T. (2016). TUT Acoustic scenes 2016, Development dataset [Data set]. Zenodo. https://doi.org/10.5281/zenodo.45739\n"
   ]
  }
 ],
 "metadata": {
  "kernelspec": {
   "display_name": "acus_python",
   "language": "python",
   "name": "acus_python"
  },
  "language_info": {
   "codemirror_mode": {
    "name": "ipython",
    "version": 3
   },
   "file_extension": ".py",
   "mimetype": "text/x-python",
   "name": "python",
   "nbconvert_exporter": "python",
   "pygments_lexer": "ipython3",
   "version": "3.10.18"
  }
 },
 "nbformat": 4,
 "nbformat_minor": 5
}
